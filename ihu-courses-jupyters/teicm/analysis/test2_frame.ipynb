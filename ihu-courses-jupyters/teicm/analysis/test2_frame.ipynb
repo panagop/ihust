{
 "cells": [
  {
   "cell_type": "markdown",
   "id": "neither-vancouver",
   "metadata": {},
   "source": [
    "# Ανάλυση Κατασκεύων σε Η/Υ - Άσκηση 2 (Μαρτ.2021)"
   ]
  },
  {
   "cell_type": "code",
   "execution_count": 1,
   "id": "pressed-jewelry",
   "metadata": {},
   "outputs": [],
   "source": [
    "from streng.ppp.sections.geometry.rectangular import RectangularSectionGeometry\n",
    "from streng.ppp.sections.geometry.tee import TeeSectionGeometry\n",
    "import numpy as np\n",
    "import pandas as pd\n",
    "from IPython.display import display\n",
    "import matplotlib.pyplot as plt\n",
    "import openseespy.opensees as ops\n",
    "import opsvis as opsv"
   ]
  },
  {
   "cell_type": "markdown",
   "id": "given-focus",
   "metadata": {},
   "source": [
    "## Εισαγωγή αριθμού μητρώου φοιτητών\n",
    "\n",
    "Αντικαταστήστε τα ψηφία με αυτά του αριθμού μητρώου σας και τρέξτε το jupyter notebook.  \n",
    "Δε θα χρειαστεί να κάνετε κάποια άλλη αλλαγή ή κάποια εισαγωγή δεδομένων"
   ]
  },
  {
   "cell_type": "code",
   "execution_count": 2,
   "id": "clinical-zealand",
   "metadata": {},
   "outputs": [],
   "source": [
    "κ, λ, μ, ν = 9, 8, 7, 6"
   ]
  },
  {
   "cell_type": "markdown",
   "id": "asian-money",
   "metadata": {},
   "source": [
    "## Δεδομένα"
   ]
  },
  {
   "cell_type": "code",
   "execution_count": 3,
   "id": "third-jacksonville",
   "metadata": {},
   "outputs": [],
   "source": [
    "# Δεδομένα φοιτητών βάσει ΑΕΜ\n",
    "H=2.7+0.1*(λ+μ)\n",
    "L=4.5+0.1*(κ+ν)\n",
    "if ν<5:\n",
    "    bc=hc=0.45\n",
    "    bw=0.25\n",
    "    h=0.65\n",
    "    hf=0.20\n",
    "    beff=1.40\n",
    "else:\n",
    "    bc=hc=0.50\n",
    "    bw=0.30\n",
    "    h=0.70\n",
    "    hf=0.20\n",
    "    beff=1.50\n",
    "\n",
    "F=100.+μ+ν\n",
    "G=15.+λ+ν\n",
    "Q=8.+ν\n",
    "   \n",
    "E=2.8*10**7\n",
    "U = 0.0\n",
    "\n",
    "# # # Δεδομένα παραδείγματος βιβλίου\n",
    "# H=3.0\n",
    "# L=5\n",
    "# bc=hc=0.4\n",
    "# bw=0.25\n",
    "# h=0.70\n",
    "# hf=0.15\n",
    "# beff=1.20\n",
    "\n",
    "# F=100.\n",
    "# G=20.\n",
    "# Q=10."
   ]
  },
  {
   "cell_type": "code",
   "execution_count": 4,
   "id": "graphic-crazy",
   "metadata": {},
   "outputs": [
    {
     "name": "stdout",
     "output_type": "stream",
     "text": [
      "H = 4.20m\n",
      "L = 6.00m\n",
      "bc = hc = 0.50m\n",
      "bw = 0.30m\n",
      "h = 0.70m\n",
      "hf = 0.20m\n",
      "beff = 1.50m\n",
      "E = 113.00kN\n",
      "G = 29.00kN/m\n",
      "Q = 14.00kN/m\n"
     ]
    }
   ],
   "source": [
    "print(f'H = {H:.2f}m')\n",
    "print(f'L = {L:.2f}m')\n",
    "print(f'bc = hc = {bc:.2f}m')\n",
    "print(f'bw = {bw:.2f}m')\n",
    "print(f'h = {h:.2f}m')\n",
    "print(f'hf = {hf:.2f}m')\n",
    "print(f'beff = {beff:.2f}m')\n",
    "\n",
    "print(f'E = {F:.2f}kN')\n",
    "print(f'G = {G:.2f}kN/m')\n",
    "print(f'Q = {Q:.2f}kN/m')"
   ]
  },
  {
   "cell_type": "markdown",
   "id": "fossil-consortium",
   "metadata": {},
   "source": [
    "## Επίλυση με το OpenSees"
   ]
  },
  {
   "cell_type": "code",
   "execution_count": 5,
   "id": "leading-soldier",
   "metadata": {},
   "outputs": [],
   "source": [
    "ops.wipe()\n",
    "ops.model('basic', '-ndm', 2, '-ndf', 3)\n",
    "\n",
    "U = 0.0\n",
    "G_shear = E / (2.0*(1.0+U))\n",
    "\n",
    "rect_col = RectangularSectionGeometry(b=bc, h=hc)\n",
    "A_col = rect_col.area\n",
    "Iz_col = rect_col.moment_of_inertia_xx * 0.5\n",
    "Avy_col = rect_col.shear_area_2 * 0.5\n",
    "\n",
    "tbeam = TeeSectionGeometry(bw = bw, h = h, beff=beff, hf = hf)\n",
    "A_tbeam = tbeam.area\n",
    "Iz_tbeam = tbeam.moment_of_inertia_xx * 0.5\n",
    "Avy_tbeam = tbeam.shear_area_2 * 0.5\n",
    "\n",
    "ops.node(1, 0., 0.)\n",
    "ops.node(2, L, 0.)\n",
    "ops.node(3, 0., H)\n",
    "ops.node(4, L, H)\n",
    "\n",
    "ops.fix(1, 1, 1, 1)\n",
    "ops.fix(2, 1, 1, 1)\n",
    "\n",
    "ops.equalDOF(4, 3, 1)\n",
    "    \n",
    "ops.geomTransf('Linear', 1)\n",
    "\n",
    "ops.element('ElasticTimoshenkoBeam', 1, 1, 3, E, G_shear, A_col, Iz_col, Avy_col, 1)  # , '-mass', 0., '-lMass')\n",
    "ops.element('ElasticTimoshenkoBeam', 2, 2, 4, E, G_shear, A_col, Iz_col, Avy_col, 1)  # , '-mass', 0., '-lMass')\n",
    "ops.element('ElasticTimoshenkoBeam', 3, 3, 4, E, G_shear, A_tbeam, Iz_tbeam, Avy_tbeam, 1)  # , '-mass', 0., '-lMass')\n",
    "\n",
    "results_ele = []\n",
    "results_node = []\n",
    "\n",
    "# F Analysis\n",
    "ops.timeSeries('Constant', 1)\n",
    "ops.pattern('Plain', 1, 1)\n",
    "ops.load(3, F, 0., 0.)\n",
    "ops.constraints('Transformation')\n",
    "ops.numberer('RCM')\n",
    "ops.system('BandGeneral')\n",
    "ops.test('NormDispIncr', 1.0e-6, 6, 2)\n",
    "ops.algorithm('Linear')\n",
    "ops.integrator('LoadControl', 1)\n",
    "ops.analysis('Static')\n",
    "ops.analyze(1)\n",
    "\n",
    "for i in range(3):\n",
    "    el_num=i+1\n",
    "    results_ele.append(['F', el_num, ops.eleForce(el_num)])\n",
    "results_node.append(['F', ops.nodeDisp(3)])\n",
    "\n",
    "ops.remove('timeSeries', 1)\n",
    "ops.remove('loadPattern', 1)\n",
    "ops.wipeAnalysis()\n",
    "\n",
    "\n",
    "# G Analysis\n",
    "ops.timeSeries('Constant', 1)\n",
    "ops.pattern('Plain', 1, 1)\n",
    "ops.eleLoad('-ele', 3, '-type', '-beamUniform', -G)\n",
    "ops.constraints('Transformation')\n",
    "ops.numberer('RCM')\n",
    "ops.system('BandGeneral')\n",
    "ops.test('NormDispIncr', 1.0e-6, 6, 2)\n",
    "ops.algorithm('Linear')\n",
    "ops.integrator('LoadControl', 1)\n",
    "ops.analysis('Static')\n",
    "ops.analyze(1)\n",
    "\n",
    "for i in range(3):\n",
    "    el_num=i+1\n",
    "    results_ele.append(['G', el_num, ops.eleForce(el_num)])\n",
    "results_node.append(['G', ops.nodeDisp(3)])\n",
    "\n",
    "ops.remove('timeSeries', 1)\n",
    "ops.remove('loadPattern', 1)\n",
    "ops.wipeAnalysis()\n",
    "\n",
    "\n",
    "# Q Analysis\n",
    "ops.timeSeries('Constant', 1)\n",
    "ops.pattern('Plain', 1, 1)\n",
    "ops.eleLoad('-ele', 3, '-type', '-beamUniform', -Q)\n",
    "ops.constraints('Transformation')\n",
    "ops.numberer('RCM')\n",
    "ops.system('BandGeneral')\n",
    "ops.test('NormDispIncr', 1.0e-6, 6, 2)\n",
    "ops.algorithm('Linear')\n",
    "ops.integrator('LoadControl', 1)\n",
    "ops.analysis('Static')\n",
    "ops.analyze(1)\n",
    "\n",
    "for i in range(3):\n",
    "    el_num=i+1\n",
    "    results_ele.append(['Q', el_num, ops.eleForce(el_num)])\n",
    "results_node.append(['Q', ops.nodeDisp (3)])\n",
    "\n",
    "ops.remove('timeSeries', 1)\n",
    "ops.remove('loadPattern', 1)\n",
    "ops.wipeAnalysis()\n",
    "\n"
   ]
  },
  {
   "cell_type": "code",
   "execution_count": 6,
   "id": "caring-pharmacy",
   "metadata": {},
   "outputs": [
    {
     "data": {
      "text/plain": [
       "<Figure size 1000x600 with 0 Axes>"
      ]
     },
     "metadata": {},
     "output_type": "display_data"
    },
    {
     "data": {
      "image/png": "[encoded data removed]",
      "text/plain": [
       "<Figure size 640x480 with 1 Axes>"
      ]
     },
     "metadata": {},
     "output_type": "display_data"
    }
   ],
   "source": [
    "fig = plt.figure(figsize=(10, 6))\n",
    "fig.subplots_adjust(left=.08, bottom=.08, right=.94, top=.94)\n",
    "# ax1 = plt.subplot(111)\n",
    "\n",
    "opsv.plot_model();"
   ]
  },
  {
   "cell_type": "markdown",
   "id": "suburban-addiction",
   "metadata": {},
   "source": [
    "## Εμφάνιση αποτελεσμάτων"
   ]
  },
  {
   "cell_type": "markdown",
   "id": "tribal-weather",
   "metadata": {},
   "source": [
    "### Εντατικά μεγέθη για κάθε load pattern"
   ]
  },
  {
   "cell_type": "markdown",
   "id": "demonstrated-fusion",
   "metadata": {},
   "source": [
    "- Στύλοι:\n",
    ">-Vi, -Ni, Mi, Vj, Nj, -Mj\n",
    "\n",
    "- Δοκοί:\n",
    ">-Ni, -Vi, -Mi, Nj, Vj, Mj"
   ]
  },
  {
   "cell_type": "code",
   "execution_count": 7,
   "id": "composite-pittsburgh",
   "metadata": {},
   "outputs": [
    {
     "name": "stdout",
     "output_type": "stream",
     "text": [
      "Για φόρτιση F, στο στοιχείο 1: [-56.5  -36.59 127.52  56.5   36.59 109.78]\n",
      "Για φόρτιση F, στο στοιχείο 2: [-56.5   36.59 127.52  56.5  -36.59 109.78]\n",
      "Για φόρτιση F, στο στοιχείο 3: [   0.    -36.59 -109.78    0.     36.59 -109.78]\n",
      "Για φόρτιση G, στο στοιχείο 1: [ 14.48  87.   -19.92 -14.48 -87.   -40.88]\n",
      "Για φόρτιση G, στο στοιχείο 2: [-14.48  87.    19.92  14.48 -87.    40.88]\n",
      "Για φόρτιση G, στο στοιχείο 3: [  0.    87.    40.88   0.    87.   -40.88]\n",
      "Για φόρτιση Q, στο στοιχείο 1: [  6.99  42.    -9.62  -6.99 -42.   -19.73]\n",
      "Για φόρτιση Q, στο στοιχείο 2: [ -6.99  42.     9.62   6.99 -42.    19.73]\n",
      "Για φόρτιση Q, στο στοιχείο 3: [  0.    42.    19.73   0.    42.   -19.73]\n"
     ]
    }
   ],
   "source": [
    "for re in results_ele:\n",
    "    print(f'Για φόρτιση {re[0]}, στο στοιχείο {re[1]}: {np.round(re[2],2)}')"
   ]
  },
  {
   "cell_type": "markdown",
   "id": "proprietary-standing",
   "metadata": {},
   "source": [
    "### Αποτελέσματα εντατικών μεγεθών για τα ζητούμενα της εκφώνησης"
   ]
  },
  {
   "cell_type": "code",
   "execution_count": 8,
   "id": "medical-invasion",
   "metadata": {},
   "outputs": [
    {
     "name": "stdout",
     "output_type": "stream",
     "text": [
      "Για 1.35G+1.5Q\n",
      "M_A= -41.32kNm\n",
      "M_B= 41.32kNm\n",
      "M_C= -84.79kNm\n",
      "M_D= -84.79kNm\n",
      "\n",
      "Για G+0.3Q+E\n",
      "M_A= 104.71kNm\n",
      "M_B= 150.33kNm\n",
      "M_C= 62.98kNm\n",
      "M_D= -156.58kNm\n"
     ]
    }
   ],
   "source": [
    "print('Για 1.35G+1.5Q')\n",
    "print(f'M_A= {(1.35*results_ele[3][2][2] + 1.5*results_ele[6][2][2]):.2f}kNm')\n",
    "print(f'M_B= {(1.35*results_ele[4][2][2] + 1.5*results_ele[7][2][2]):.2f}kNm')\n",
    "print(f'M_C= {(-1)*(1.35*results_ele[5][2][2] + 1.5*results_ele[8][2][2]):.2f}kNm')\n",
    "print(f'M_D= {(1.35*results_ele[5][2][5] + 1.5*results_ele[8][2][5]):.2f}kNm')\n",
    "print()\n",
    "print('Για G+0.3Q+E')\n",
    "print(f'M_A= {(results_ele[3][2][2] + 0.3*results_ele[6][2][2] + results_ele[0][2][2]):.2f}kNm')\n",
    "print(f'M_B= {(results_ele[4][2][2] + 0.3*results_ele[7][2][2] + results_ele[1][2][2]):.2f}kNm')\n",
    "print(f'M_C= {(-1)*(results_ele[5][2][2] + 0.3*results_ele[8][2][2] + results_ele[2][2][2]):.2f}kNm')\n",
    "print(f'M_D= {(results_ele[5][2][5] + 0.3*results_ele[8][2][5] + results_ele[2][2][5]):.2f}kNm')"
   ]
  },
  {
   "cell_type": "markdown",
   "id": "wicked-anatomy",
   "metadata": {},
   "source": [
    "### Μετακινήσεις για τα load patterns"
   ]
  },
  {
   "cell_type": "code",
   "execution_count": 9,
   "id": "comparative-syntax",
   "metadata": {},
   "outputs": [
    {
     "name": "stdout",
     "output_type": "stream",
     "text": [
      "Για φόρτιση F: δ=0.60cm\n",
      "Για φόρτιση G: δ=0.00cm\n",
      "Για φόρτιση Q: δ=0.00cm\n"
     ]
    }
   ],
   "source": [
    "for re in results_node:\n",
    "    print(f'Για φόρτιση {re[0]}: δ={100*re[1][0]:.2f}cm')"
   ]
  },
  {
   "cell_type": "markdown",
   "id": "worldwide-quantum",
   "metadata": {},
   "source": [
    "### Αποτελέσματα μετακινήσεων για τα ζητούμενα της εκφώνησης"
   ]
  },
  {
   "cell_type": "code",
   "execution_count": 10,
   "id": "developing-disaster",
   "metadata": {},
   "outputs": [
    {
     "name": "stdout",
     "output_type": "stream",
     "text": [
      "Για 1.35G+1.5Q\n",
      "δ=0.0cm\n",
      "\n",
      "Για G+0.3Q+E\n",
      "δ=0.60cm\n"
     ]
    }
   ],
   "source": [
    "print('Για 1.35G+1.5Q')\n",
    "print(f'δ=0.0cm')\n",
    "print()\n",
    "print('Για G+0.3Q+E')\n",
    "print(f'δ={(100*results_node[0][1][0]):.2f}cm')"
   ]
  }
 ],
 "metadata": {
  "kernelspec": {
   "display_name": "Python 3 (ipykernel)",
   "language": "python",
   "name": "python3"
  },
  "language_info": {
   "codemirror_mode": {
    "name": "ipython",
    "version": 3
   },
   "file_extension": ".py",
   "mimetype": "text/x-python",
   "name": "python",
   "nbconvert_exporter": "python",
   "pygments_lexer": "ipython3",
   "version": "3.9.13"
  }
 },
 "nbformat": 4,
 "nbformat_minor": 5
}
