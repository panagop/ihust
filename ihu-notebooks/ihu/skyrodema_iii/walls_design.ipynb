{
 "cells": [
  {
   "cell_type": "code",
   "execution_count": 1,
   "metadata": {},
   "outputs": [],
   "source": [
    "import numpy as np\n",
    "import pandas as pd\n",
    "import math\n",
    "import matplotlib.pyplot as plt\n",
    "import clr"
   ]
  },
  {
   "cell_type": "code",
   "execution_count": 2,
   "metadata": {},
   "outputs": [
    {
     "data": {
      "text/plain": [
       "<System.Reflection.RuntimeAssembly object at 0x000002058ED41C40>"
      ]
     },
     "execution_count": 2,
     "metadata": {},
     "output_type": "execute_result"
    }
   ],
   "source": [
    "# clr.AddReference(r\"C:\\Users\\panagop\\.nuget\\packages\\exceldna.addin\\1.6.0-preview3\\tools\\net452\\ExcelDna.Integration.dll\")\n",
    "# clr.AddReference(r\"D:\\mycsharp_projects\\CsStrEng\\bin\\Debug\\net6.0-windows\\MathNet.Numerics.dll\")\n",
    "clr.AddReference(r\"D:\\mycsharp_projects\\CsStrEng\\bin\\Release\\net6.0-windows\\win-x64\\CsStrEng.dll\")\n",
    "\n",
    "# clr.AddReference(\"System.Windows.Forms\")"
   ]
  },
  {
   "cell_type": "code",
   "execution_count": 3,
   "metadata": {},
   "outputs": [
    {
     "ename": "ModuleNotFoundError",
     "evalue": "No module named 'CsStrEng'",
     "output_type": "error",
     "traceback": [
      "\u001b[1;31m---------------------------------------------------------------------------\u001b[0m",
      "\u001b[1;31mModuleNotFoundError\u001b[0m                       Traceback (most recent call last)",
      "\u001b[1;32md:\\mypython_projects\\ihu_courses\\jupyter\\ihu\\skyrodema_iii\\walls_design.ipynb Cell 3\u001b[0m in \u001b[0;36m1\n\u001b[1;32m----> <a href='vscode-notebook-cell:/d%3A/mypython_projects/ihu_courses/jupyter/ihu/skyrodema_iii/walls_design.ipynb#X40sZmlsZQ%3D%3D?line=0'>1</a>\u001b[0m \u001b[39mimport\u001b[39;00m \u001b[39mCsStrEng\u001b[39;00m\n",
      "\u001b[1;31mModuleNotFoundError\u001b[0m: No module named 'CsStrEng'"
     ]
    }
   ],
   "source": [
    "import CsStrEng"
   ]
  },
  {
   "cell_type": "code",
   "execution_count": 5,
   "metadata": {},
   "outputs": [
    {
     "ename": "ModuleNotFoundError",
     "evalue": "No module named 'CsStrEng'",
     "output_type": "error",
     "traceback": [
      "\u001b[1;31m---------------------------------------------------------------------------\u001b[0m",
      "\u001b[1;31mModuleNotFoundError\u001b[0m                       Traceback (most recent call last)",
      "\u001b[1;32md:\\mypython_projects\\ihu_courses\\jupyter\\ihu\\skyrodema_iii\\walls_design.ipynb Cell 4\u001b[0m in \u001b[0;36m1\n\u001b[1;32m----> <a href='vscode-notebook-cell:/d%3A/mypython_projects/ihu_courses/jupyter/ihu/skyrodema_iii/walls_design.ipynb#X30sZmlsZQ%3D%3D?line=0'>1</a>\u001b[0m \u001b[39mimport\u001b[39;00m \u001b[39mCsStrEng\u001b[39;00m\u001b[39m.\u001b[39;00m\u001b[39mArrays\u001b[39;00m\n",
      "\u001b[1;31mModuleNotFoundError\u001b[0m: No module named 'CsStrEng'"
     ]
    }
   ],
   "source": [
    "import CsStrEng.Arrays"
   ]
  },
  {
   "cell_type": "code",
   "execution_count": 6,
   "metadata": {},
   "outputs": [
    {
     "name": "stdout",
     "output_type": "stream",
     "text": [
      "Microsoft.CodeAnalysis.EmbeddedAttribute\n",
      "System.Runtime.CompilerServices.NullableAttribute\n",
      "System.Runtime.CompilerServices.NullableContextAttribute\n",
      "CsStrEng.Arrays\n",
      "CsStrEng.Vulnerability.Lognormal\n",
      "CsStrEng.Maths.Common\n",
      "CsStrEng.Maths.Numerics.Integration\n",
      "CsStrEng.Maths.Numerics.Interpolation\n",
      "CsStrEng.Civil.Statics.BeamKnownSupportMomentsUniformLoadExcel\n",
      "CsStrEng.Civil.Statics.BeamKnownSupportMomentsUniformLoad\n",
      "CsStrEng.Civil.Statics.Matrix\n",
      "CsStrEng.Civil.Concrete.Beams.Flexure\n",
      "CsStrEng.Civil.Codes.EN1998_1_2004.Ch3.GroundTypes\n",
      "CsStrEng.Civil.Codes.EN1998_1_2004.Ch3.SeismicAction\n",
      "CsStrEng.Civil.Codes.EN1992_1_1_2004.Ch6.Shear\n",
      "CsStrEng.Civil.Codes.EN1992_1_1_2004.Ch4.ConcreteCover\n",
      "CsStrEng.Civil.Codes.EN1992_1_1_2004.Ch3.Concrete.Strength\n",
      "CsStrEng.Civil.Codes.EN1992_1_1_2004.Ch3.Concrete.ElasticDeformation\n",
      "CsStrEng.Civil.Codes.EN1992_1_1_2004.Ch3.Concrete.σεforNLA\n",
      "CsStrEng.Civil.Codes.EN1992_1_1_2004.Ch3.Concrete.σεforDesign\n",
      "<PrivateImplementationDetails>\n",
      "<PrivateImplementationDetails>+__StaticArrayInitTypeSize=24\n"
     ]
    }
   ],
   "source": [
    "from System.Reflection import Assembly\n",
    "assem = Assembly.LoadFile(r\"D:\\mycsharp_projects\\CsStrEng\\bin\\Release\\net6.0-windows\\win-x64\\CsStrEng.dll\")\n",
    "for module in assem.GetModules():\n",
    "    for name in module.GetTypes():\n",
    "        print(name.FullName)"
   ]
  },
  {
   "cell_type": "code",
   "execution_count": 15,
   "metadata": {},
   "outputs": [
    {
     "ename": "ModuleNotFoundError",
     "evalue": "No module named 'CsStrEng'",
     "output_type": "error",
     "traceback": [
      "\u001b[1;31m---------------------------------------------------------------------------\u001b[0m",
      "\u001b[1;31mModuleNotFoundError\u001b[0m                       Traceback (most recent call last)",
      "\u001b[1;32md:\\mypython_projects\\ihu_courses\\jupyter\\ihu\\skyrodema_iii\\walls_design.ipynb Cell 5\u001b[0m in \u001b[0;36m1\n\u001b[1;32m----> <a href='vscode-notebook-cell:/d%3A/mypython_projects/ihu_courses/jupyter/ihu/skyrodema_iii/walls_design.ipynb#X34sZmlsZQ%3D%3D?line=0'>1</a>\u001b[0m \u001b[39mfrom\u001b[39;00m \u001b[39mCsStrEng\u001b[39;00m\u001b[39m.\u001b[39;00m\u001b[39mArrays\u001b[39;00m \u001b[39mimport\u001b[39;00m \u001b[39m*\u001b[39m\n",
      "\u001b[1;31mModuleNotFoundError\u001b[0m: No module named 'CsStrEng'"
     ]
    }
   ],
   "source": [
    "from CsStrEng.Arrays import *"
   ]
  },
  {
   "cell_type": "code",
   "execution_count": 10,
   "metadata": {},
   "outputs": [
    {
     "name": "stdout",
     "output_type": "stream",
     "text": [
      "['Form', 'In', 'Out', '_', '_3', '_6', '_7', '__', '___', '__builtin__', '__builtins__', '__doc__', '__loader__', '__name__', '__package__', '__spec__', '__vsc_ipynb_file__', '_dh', '_i', '_i1', '_i10', '_i2', '_i3', '_i4', '_i5', '_i6', '_i7', '_i8', '_i9', '_ih', '_ii', '_iii', '_oh', 'clr', 'exit', 'f', 'get_ipython', 'math', 'np', 'open', 'pd', 'plt', 'quit']\n"
     ]
    }
   ],
   "source": [
    "print(dir())"
   ]
  },
  {
   "cell_type": "code",
   "execution_count": 60,
   "metadata": {},
   "outputs": [],
   "source": [
    "lw = 6.00       # Πλάτος διατομής τοιχώματος\n",
    "hw = 28.50      # Ύψος τοιχώματος\n",
    "hs = 4.12       # Καθαρό ύψος του ορόφου πάνω από τη βάση του τοιχώματος\n",
    "\n",
    "hi = np.array([4.5] + [3]*8)        # Ύψη ορόφων\n",
    "\n",
    "M_calcs_bot = np.array([6893.6, 4160.7, 3037.1, 2061.1, 1149.5, 527.1, -37.9, -350.0, -363.3])\n",
    "M_calcs_top = np.array([3894.5, 2658.3, 1740.1, 812.5, 178.6, -382.9, -679.9, -685.8, -262.8])\n"
   ]
  },
  {
   "cell_type": "code",
   "execution_count": 63,
   "metadata": {},
   "outputs": [
    {
     "name": "stdout",
     "output_type": "stream",
     "text": [
      "Ύψη ορόφων:  [4.5, 3.0, 3.0, 3.0, 3.0, 3.0, 3.0, 3.0, 3.0]\n",
      "Αριθμός ορόφων:  9\n",
      "Στάθμες ορόφων:  [4.5, 7.5, 10.5, 13.5, 16.5, 19.5, 22.5, 25.5, 28.5]\n",
      "Ύψος κτιρίου: 28.50m\n"
     ]
    }
   ],
   "source": [
    "n_storeys = len(hi)                 # Αριθμός ορόφων\n",
    "zi = np.cumsum(hi)                  # Στάθμες ορόφων ορόφων\n",
    "H = zi[-1]                          # Ύψος κτιρίου\n",
    "\n",
    "print('Ύψη ορόφων: ', list(hi))\n",
    "print('Αριθμός ορόφων: ', n_storeys)\n",
    "print('Στάθμες ορόφων: ', list(zi))\n",
    "print(f'Ύψος κτιρίου: {H:.2f}m')"
   ]
  },
  {
   "attachments": {},
   "cell_type": "markdown",
   "metadata": {},
   "source": [
    "Το ύψος της κρίσιµης περιοχής hcr πάνω από τη βάση των τοιχωµάτων θα λαµβάνεται σύµφωνα µε την ακόλουθη σχέση:\n",
    "\n",
    "$h_{cr} = \\max \\left \\{\n",
    "     \\begin{array}{ c l }\n",
    "     l_w \\\\\n",
    "     h_w/6\n",
    "     \\end{array}\n",
    "    \\right.$\n",
    "\n",
    "αλλά θα πρέπει:\n",
    "\n",
    "$h_{cr} \\le  \\left \\{\n",
    "     \\begin{array}{ l l }\n",
    "     2\\cdot l_w \\\\\n",
    "          \\left \\{\n",
    "          \\begin{array}{ l l }\n",
    "          h_s  & \\quad \\textrm{για } n \\leq 6 \\textrm{ ορόφους} \\\\\n",
    "          2\\cdot h_s  & \\quad \\textrm{για } n \\geq 7 \\textrm{ ορόφους}\n",
    "          \\end{array}\n",
    "          \\right.\n",
    "     \\end{array}\n",
    "    \\right.$"
   ]
  },
  {
   "cell_type": "code",
   "execution_count": 55,
   "metadata": {},
   "outputs": [
    {
     "name": "stdout",
     "output_type": "stream",
     "text": [
      "hcr = 6.00 m\n",
      "hcr_check = 8.24 m\n",
      "Μετά τον έλεγχο, hcr = 6.00 m\n"
     ]
    }
   ],
   "source": [
    "hcr = max(lw, hw/6)\n",
    "print(f'hcr = {hcr:.2f} m')\n",
    "\n",
    "hcr_check = min(2*lw, hs if n_storeys<=6 else 2*hs)\n",
    "print(f'hcr_check = {hcr_check:.2f} m')\n",
    "\n",
    "# Ελέγχουμε αν η τιμή του hcr είναι μικρότερη από τον έλεγχο\n",
    "if hcr > hcr_check:\n",
    "    hcr > hcr_check\n",
    "\n",
    "print(f'Μετά τον έλεγχο, hcr = {hcr:.2f} m')"
   ]
  },
  {
   "attachments": {},
   "cell_type": "markdown",
   "metadata": {},
   "source": [
    "Είναι πιθανό το ύψος της κρίσιµης περιοχής που υπολογίστηκε να αντιστοιχεί σε όλο τμήμα κάποιου ορόφου (π.χ. ολόκληρος ο πρώτος όροφος και τμήμα του δεύτερου). \n",
    "Επειδή οι απαιτήσεις όπλισης της κρίσιµης περιοχής διαφέρουν από αυτές της εκτός κρισίµου περιοχής, είναι προφανές πως από πρακτικής απόψεως, δεν είναι εύκολο να επιτευχθεί µια τέτοια διαφοροποίηση των\n",
    "οπλισµών µέσα στο ύψος ενός ορόφου. \n",
    "Συνεπώς είναι προτιµότερο να ληφθεί ως κρίσιµη περιοχή αυτή που αντιστοιχεί στο ύψος ολόκληρων των σχετικών ορόφων."
   ]
  },
  {
   "cell_type": "code",
   "execution_count": 56,
   "metadata": {},
   "outputs": [
    {
     "name": "stdout",
     "output_type": "stream",
     "text": [
      "Τελικά hcr = 7.50 m\n"
     ]
    }
   ],
   "source": [
    "hcr = zi[np.where(np.greater_equal(zi, hcr))[0][0]]     # Βρίσκω τη στάθμη του πρώτου ορόφου που βρίσκεται σε ύψος μεγαλύτερο ή ίσο του hcr\n",
    "print(f'Τελικά hcr = {hcr:.2f} m')"
   ]
  },
  {
   "cell_type": "code",
   "execution_count": 73,
   "metadata": {},
   "outputs": [
    {
     "name": "stdout",
     "output_type": "stream",
     "text": [
      "M0 = 6893.60 kNm\n",
      "Mn = 262.80 kNm\n"
     ]
    }
   ],
   "source": [
    "M0 = M_calcs_bot[0]\n",
    "Mn = np.abs(M_calcs_top[-1])\n",
    "\n",
    "print(f'M0 = {M0:.2f} kNm')\n",
    "print(f'Mn = {Mn:.2f} kNm')"
   ]
  },
  {
   "attachments": {},
   "cell_type": "markdown",
   "metadata": {},
   "source": [
    "$M_{Ed}(z_i) = (M_0 - M_n)\\cdot(1 - \\dfrac{z_i-h_{cr}}{H}) + M_n  \\text{για} z_i\\ge h_{cr}$\n",
    "\n",
    "$M_{Ed} = M_0 \\text{για} z_i\\lt h_{cr}$"
   ]
  },
  {
   "cell_type": "code",
   "execution_count": 74,
   "metadata": {},
   "outputs": [
    {
     "data": {
      "text/plain": [
       "array([7591.57894737, 6893.6       , 6195.62105263, 5497.64210526,\n",
       "       4799.66315789, 4101.68421053, 3403.70526316, 2705.72631579,\n",
       "       2007.74736842])"
      ]
     },
     "execution_count": 74,
     "metadata": {},
     "output_type": "execute_result"
    }
   ],
   "source": [
    "MEd = (M0 - Mn) * (1 - (zi - hcr)/H) + Mn\n",
    "MEd"
   ]
  },
  {
   "cell_type": "code",
   "execution_count": 75,
   "metadata": {},
   "outputs": [
    {
     "data": {
      "text/plain": [
       "array([False,  True,  True,  True,  True,  True,  True,  True,  True])"
      ]
     },
     "execution_count": 75,
     "metadata": {},
     "output_type": "execute_result"
    }
   ],
   "source": [
    "np.greater_equal(zi, hcr)"
   ]
  },
  {
   "cell_type": "code",
   "execution_count": 85,
   "metadata": {},
   "outputs": [
    {
     "data": {
      "text/plain": [
       "array([6893.6       , 6893.6       , 6893.6       , 6195.62105263,\n",
       "       5497.64210526, 4799.66315789, 4101.68421053, 3403.70526316,\n",
       "       2705.72631579, 2007.74736842])"
      ]
     },
     "execution_count": 85,
     "metadata": {},
     "output_type": "execute_result"
    }
   ],
   "source": [
    "condition = np.less(zi, hcr)\n",
    "MEd = np.array([M0] + [M0 if condition else (M0 - Mn) * (1 - (zi - hcr)/H) + Mn for condition, zi in zip(condition, zi)])\n",
    "MEd"
   ]
  },
  {
   "cell_type": "code",
   "execution_count": 131,
   "metadata": {},
   "outputs": [
    {
     "data": {
      "image/png": "[encoded data removed]",
      "text/plain": [
       "<Figure size 500x800 with 1 Axes>"
      ]
     },
     "metadata": {},
     "output_type": "display_data"
    }
   ],
   "source": [
    "fig, ax = plt.subplots(figsize=(5, 8))\n",
    "\n",
    "xs = MEd\n",
    "ys = np.append(np.array([0]), (zi))\n",
    "\n",
    "xs_bot = M_calcs_bot\n",
    "ys_bot = zi - hi\n",
    "\n",
    "xs_top = M_calcs_top\n",
    "ys_top = zi\n",
    "\n",
    "plt.plot(xs, ys, 'go-', linewidth=2, markersize=6)\n",
    "plt.plot(xs_bot, ys_bot, 'bo--', linewidth=2, markersize=4)\n",
    "plt.plot(xs_top, ys_top, 'ro--', linewidth=2, markersize=4)\n",
    "plt.plot([0., 0.], [0, 1.05*ys_top[-1]])\n",
    "plt.grid()\n",
    "for index in range(len(xs)):\n",
    "  ax.text(xs[index], ys[index], f'{xs[index]:.2f}', size=10\n",
    "  )"
   ]
  },
  {
   "cell_type": "code",
   "execution_count": 93,
   "metadata": {},
   "outputs": [
    {
     "data": {
      "text/plain": [
       "10"
      ]
     },
     "execution_count": 93,
     "metadata": {},
     "output_type": "execute_result"
    }
   ],
   "source": [
    "len(MEd)"
   ]
  },
  {
   "cell_type": "code",
   "execution_count": 130,
   "metadata": {},
   "outputs": [
    {
     "data": {
      "text/plain": [
       "array([ 4.5,  7.5, 10.5, 13.5, 16.5, 19.5, 22.5, 25.5, 28.5])"
      ]
     },
     "execution_count": 130,
     "metadata": {},
     "output_type": "execute_result"
    }
   ],
   "source": [
    "zi"
   ]
  },
  {
   "cell_type": "code",
   "execution_count": 98,
   "metadata": {},
   "outputs": [
    {
     "data": {
      "text/plain": [
       "array([ 0. ,  4.5,  7.5, 10.5, 13.5, 16.5, 19.5, 22.5, 25.5, 28.5])"
      ]
     },
     "execution_count": 98,
     "metadata": {},
     "output_type": "execute_result"
    }
   ],
   "source": [
    "np.append(np.array([0]), (zi))"
   ]
  },
  {
   "cell_type": "code",
   "execution_count": null,
   "metadata": {},
   "outputs": [],
   "source": []
  },
  {
   "attachments": {},
   "cell_type": "markdown",
   "metadata": {},
   "source": [
    "$μ_φ = 2\\cdot q_0 \\cdot \\dfrac{M_{Ed}}{M_{Rd}} -1 $\n",
    "\n",
    "$μ_φ = 1 + 2 \\cdot (q_0 \\cdot \\dfrac{M_{Ed}}{M_{Rd}} -1 ) \\cdot \\dfrac{T_C}{T_1} $"
   ]
  },
  {
   "attachments": {},
   "cell_type": "markdown",
   "metadata": {},
   "source": [
    "$α \\cdot ω_{wd} \\ge 30 \\cdot μ_φ \\cdot (ν_d + ω_v) \\cdot e_{sy,d} \\cdot \\dfrac{b_c}{b_0} - 0.035 $"
   ]
  },
  {
   "attachments": {},
   "cell_type": "markdown",
   "metadata": {},
   "source": []
  }
 ],
 "metadata": {
  "kernelspec": {
   "display_name": ".venv",
   "language": "python",
   "name": "python3"
  },
  "language_info": {
   "codemirror_mode": {
    "name": "ipython",
    "version": 3
   },
   "file_extension": ".py",
   "mimetype": "text/x-python",
   "name": "python",
   "nbconvert_exporter": "python",
   "pygments_lexer": "ipython3",
   "version": "3.9.13"
  },
  "orig_nbformat": 4
 },
 "nbformat": 4,
 "nbformat_minor": 2
}
