{
 "cells": [
  {
   "cell_type": "markdown",
   "metadata": {},
   "source": [
    "# Στατική με Μητρώα - Άσκηση για το σπίτι 1"
   ]
  },
  {
   "cell_type": "code",
   "execution_count": 1,
   "metadata": {},
   "outputs": [],
   "source": [
    "import sympy as sym\n",
    "from sympy import Matrix\n",
    "# from common.statics.mitroiki_functs import K_without_axial\n",
    "# from common.statics.mitroiki_functs import P_point_load_at_distance_a, P_uniformly_distributed_load\n",
    "# from common.statics.mitroiki_functs import round_expr\n",
    "# import common.statics.shape_functions as sf \n",
    "from statics.mitroiki_functs import K_without_axial\n",
    "from statics.mitroiki_functs import P_point_load_at_distance_a, P_uniformly_distributed_load\n",
    "from statics.mitroiki_functs import round_expr\n",
    "import statics.shape_functions as sf \n",
    "\n",
    "import openseespy.opensees as ops\n",
    "import opsvis as opsv\n",
    "import matplotlib.pyplot as plt\n",
    "\n",
    "from IPython.display import Image"
   ]
  },
  {
   "cell_type": "code",
   "execution_count": 2,
   "metadata": {},
   "outputs": [
    {
     "name": "stderr",
     "output_type": "stream",
     "text": [
      "<>:1: SyntaxWarning: invalid escape sequence '\\e'\n",
      "<>:1: SyntaxWarning: invalid escape sequence '\\e'\n",
      "C:\\Users\\panagop\\AppData\\Local\\Temp\\ipykernel_12116\\4125210237.py:1: SyntaxWarning: invalid escape sequence '\\e'\n",
      "  Image('img\\ekfonisi.png', width=800)\n"
     ]
    },
    {
     "data": {
      "image/png": "[encoded data removed]",
      "text/plain": [
       "<IPython.core.display.Image object>"
      ]
     },
     "execution_count": 2,
     "metadata": {
      "image/png": {
       "width": 800
      }
     },
     "output_type": "execute_result"
    }
   ],
   "source": [
    "Image('img\\ekfonisi.png', width=800)"
   ]
  },
  {
   "cell_type": "markdown",
   "metadata": {},
   "source": [
    "## Δεδομένα φοιτητή"
   ]
  },
  {
   "cell_type": "code",
   "execution_count": 3,
   "metadata": {},
   "outputs": [],
   "source": [
    "μ = 0\n",
    "ν = 0"
   ]
  },
  {
   "cell_type": "code",
   "execution_count": 4,
   "metadata": {},
   "outputs": [],
   "source": [
    "L1 = 5+(0.1*μ)+(0.2*ν)\n",
    "L2 =3+(0.1*(μ+ν))\n",
    "L3 = 4.2+(0.2*μ)+(0.2*ν)\n",
    "L4 = 1.6+(0.1*ν)\n",
    "g = 20+(0.1*(μ+ν))\n",
    "gπρ = 14+(0.2*(μ+ν))\n",
    "P_load = 25+(0.3*μ)+(0.4*ν)\n",
    "E = (28 + 0.1*(μ+ν)) * 10**6\n",
    "b=0.25\n",
    "h=0.7"
   ]
  },
  {
   "cell_type": "code",
   "execution_count": 5,
   "metadata": {},
   "outputs": [],
   "source": [
    "Lp = (3/4)*L1\n",
    "I = b*h**3/12"
   ]
  },
  {
   "cell_type": "code",
   "execution_count": 6,
   "metadata": {},
   "outputs": [
    {
     "name": "stdout",
     "output_type": "stream",
     "text": [
      "L1 = 5.000m\n",
      "L2 = 3.000m\n",
      "L3 = 4.200m\n",
      "L4 = 1.600m\n",
      "g = 20.000kN/m\n",
      "gπρ = 14.000kN/m\n",
      "P = 25.000kN\n",
      "E = 2.800e+07kPa\n",
      "b = 0.250m\n",
      "h = 0.700m\n",
      "Lp = 3.750m\n",
      "I = 7.146e-03m4\n"
     ]
    }
   ],
   "source": [
    "print(f'L1 = {L1:.3f}m')\n",
    "print(f'L2 = {L2:.3f}m')\n",
    "print(f'L3 = {L3:.3f}m')\n",
    "print(f'L4 = {L4:.3f}m')\n",
    "print(f'g = {g:.3f}kN/m')\n",
    "print(f'gπρ = {gπρ:.3f}kN/m')\n",
    "print(f'P = {P_load:.3f}kN')\n",
    "print(f'E = {E:.3e}kPa')\n",
    "print(f'b = {b:.3f}m')\n",
    "print(f'h = {h:.3f}m')\n",
    "print(f'Lp = {Lp:.3f}m')\n",
    "print(f'I = {I:.3e}m4')"
   ]
  },
  {
   "cell_type": "markdown",
   "metadata": {},
   "source": [
    "## Καθορισμός μητρώων και διανυσμάτων"
   ]
  },
  {
   "cell_type": "markdown",
   "metadata": {},
   "source": [
    "### Μητρώα στιβαρότητας"
   ]
  },
  {
   "cell_type": "markdown",
   "metadata": {},
   "source": [
    "#### Python functions"
   ]
  },
  {
   "cell_type": "markdown",
   "metadata": {},
   "source": [
    "#### Μητρώο στιβαρότητας στοιχείου 1"
   ]
  },
  {
   "cell_type": "code",
   "execution_count": 7,
   "metadata": {},
   "outputs": [
    {
     "data": {
      "text/latex": [
       "$\\displaystyle \\left[\\begin{matrix}19208.0 & 48020.0 & -19208.0 & 48020.0\\\\48020.0 & 160066.7 & -48020.0 & 80033.3\\\\-19208.0 & -48020.0 & 19208.0 & -48020.0\\\\48020.0 & 80033.3 & -48020.0 & 160066.7\\end{matrix}\\right]$"
      ],
      "text/plain": [
       "Matrix([\n",
       "[ 19208.0,  48020.0, -19208.0,  48020.0],\n",
       "[ 48020.0, 160066.7, -48020.0,  80033.3],\n",
       "[-19208.0, -48020.0,  19208.0, -48020.0],\n",
       "[ 48020.0,  80033.3, -48020.0, 160066.7]])"
      ]
     },
     "execution_count": 7,
     "metadata": {},
     "output_type": "execute_result"
    }
   ],
   "source": [
    "K1 = K_without_axial(E=E, I=I, L=L1)\n",
    "round_expr(K1, 1)"
   ]
  },
  {
   "cell_type": "markdown",
   "metadata": {},
   "source": [
    "#### Μητρώο στιβαρότητας στοιχείου 2"
   ]
  },
  {
   "cell_type": "code",
   "execution_count": 8,
   "metadata": {},
   "outputs": [
    {
     "data": {
      "text/latex": [
       "$\\displaystyle \\left[\\begin{matrix}88925.9 & 133388.9 & -88925.9 & 133388.9\\\\133388.9 & 266777.8 & -133388.9 & 133388.9\\\\-88925.9 & -133388.9 & 88925.9 & -133388.9\\\\133388.9 & 133388.9 & -133388.9 & 266777.8\\end{matrix}\\right]$"
      ],
      "text/plain": [
       "Matrix([\n",
       "[ 88925.9,  133388.9,  -88925.9,  133388.9],\n",
       "[133388.9,  266777.8, -133388.9,  133388.9],\n",
       "[-88925.9, -133388.9,   88925.9, -133388.9],\n",
       "[133388.9,  133388.9, -133388.9,  266777.8]])"
      ]
     },
     "execution_count": 8,
     "metadata": {},
     "output_type": "execute_result"
    }
   ],
   "source": [
    "K2 = K_without_axial(E=E, I=I, L=L2)\n",
    "round_expr(K2, 1)"
   ]
  },
  {
   "cell_type": "code",
   "execution_count": 9,
   "metadata": {},
   "outputs": [
    {
     "data": {
      "text/latex": [
       "$\\displaystyle \\left[\\begin{matrix}32407.4 & 68055.6 & -32407.4 & 68055.6\\\\68055.6 & 190555.6 & -68055.6 & 95277.8\\\\-32407.4 & -68055.6 & 32407.4 & -68055.6\\\\68055.6 & 95277.8 & -68055.6 & 190555.6\\end{matrix}\\right]$"
      ],
      "text/plain": [
       "Matrix([\n",
       "[ 32407.4,  68055.6, -32407.4,  68055.6],\n",
       "[ 68055.6, 190555.6, -68055.6,  95277.8],\n",
       "[-32407.4, -68055.6,  32407.4, -68055.6],\n",
       "[ 68055.6,  95277.8, -68055.6, 190555.6]])"
      ]
     },
     "execution_count": 9,
     "metadata": {},
     "output_type": "execute_result"
    }
   ],
   "source": [
    "K3 = K_without_axial(E=E, I=I, L=L3)\n",
    "round_expr(K3, 1)"
   ]
  },
  {
   "cell_type": "markdown",
   "metadata": {},
   "source": [
    "#### Συνολικό μητρώο στιβαρότητας (συνδυασμός στοιχέιων 1 και 2)"
   ]
  },
  {
   "cell_type": "code",
   "execution_count": 10,
   "metadata": {},
   "outputs": [
    {
     "data": {
      "text/latex": [
       "$\\displaystyle \\left[\\begin{matrix}19208.0 & 48020.0 & -19208.0 & 48020.0 & 0 & 0 & 0 & 0\\\\48020.0 & 160066.7 & -48020.0 & 80033.3 & 0 & 0 & 0 & 0\\\\-19208.0 & -48020.0 & 108133.9 & 85368.9 & -88925.9 & 133388.9 & 0 & 0\\\\48020.0 & 80033.3 & 85368.9 & 426844.4 & -133388.9 & 133388.9 & 0 & 0\\\\0 & 0 & -88925.9 & -133388.9 & 121333.3 & -65333.3 & -32407.4 & 68055.6\\\\0 & 0 & 133388.9 & 133388.9 & -65333.3 & 457333.3 & -68055.6 & 95277.8\\\\0 & 0 & 0 & 0 & -32407.4 & -68055.6 & 32407.4 & -68055.6\\\\0 & 0 & 0 & 0 & 68055.6 & 95277.8 & -68055.6 & 190555.6\\end{matrix}\\right]$"
      ],
      "text/plain": [
       "Matrix([\n",
       "[ 19208.0,  48020.0, -19208.0,   48020.0,         0,        0,        0,        0],\n",
       "[ 48020.0, 160066.7, -48020.0,   80033.3,         0,        0,        0,        0],\n",
       "[-19208.0, -48020.0, 108133.9,   85368.9,  -88925.9, 133388.9,        0,        0],\n",
       "[ 48020.0,  80033.3,  85368.9,  426844.4, -133388.9, 133388.9,        0,        0],\n",
       "[       0,        0, -88925.9, -133388.9,  121333.3, -65333.3, -32407.4,  68055.6],\n",
       "[       0,        0, 133388.9,  133388.9,  -65333.3, 457333.3, -68055.6,  95277.8],\n",
       "[       0,        0,        0,         0,  -32407.4, -68055.6,  32407.4, -68055.6],\n",
       "[       0,        0,        0,         0,   68055.6,  95277.8, -68055.6, 190555.6]])"
      ]
     },
     "execution_count": 10,
     "metadata": {},
     "output_type": "execute_result"
    }
   ],
   "source": [
    "# Δημιουργώ αρχικά ένα μηδενικό μητρώο 6x6 με όλα τα στοιχεία του μηδενικά\n",
    "K = sym.zeros(8, 8)\n",
    "K[:4, :4] += K1\n",
    "K[2:6, 2:6] += K2\n",
    "K[4:, 4:] += K3\n",
    "\n",
    "round_expr(K, 1)\n",
    "\n"
   ]
  },
  {
   "cell_type": "markdown",
   "metadata": {},
   "source": [
    "### Μητρώα εξωτερικών φορτίσεων"
   ]
  },
  {
   "cell_type": "markdown",
   "metadata": {},
   "source": [
    "#### Μητρώο εξωτερικών φορτίσεων στοιχείου 1\n",
    "\n",
    "Το στοιχείο 1 έχει τα εξωτερικά φορτία που αναππτύσσονται λόγω του ομοιόμορφου φορτίου q και του σημειακού φορτίου P."
   ]
  },
  {
   "cell_type": "code",
   "execution_count": 11,
   "metadata": {},
   "outputs": [
    {
     "data": {
      "text/latex": [
       "$\\displaystyle \\left[\\begin{matrix}-3.91\\\\-5.86\\\\-21.09\\\\17.58\\end{matrix}\\right]$"
      ],
      "text/plain": [
       "Matrix([\n",
       "[ -3.91],\n",
       "[ -5.86],\n",
       "[-21.09],\n",
       "[ 17.58]])"
      ]
     },
     "execution_count": 11,
     "metadata": {},
     "output_type": "execute_result"
    }
   ],
   "source": [
    "P1_point = P_point_load_at_distance_a(P=P_load, L=L1, a=Lp)\n",
    "round_expr(P1_point, 2)"
   ]
  },
  {
   "cell_type": "code",
   "execution_count": 12,
   "metadata": {},
   "outputs": [
    {
     "data": {
      "text/latex": [
       "$\\displaystyle \\left[\\begin{matrix}-50.0\\\\-41.67\\\\-50.0\\\\41.67\\end{matrix}\\right]$"
      ],
      "text/plain": [
       "Matrix([\n",
       "[ -50.0],\n",
       "[-41.67],\n",
       "[ -50.0],\n",
       "[ 41.67]])"
      ]
     },
     "execution_count": 12,
     "metadata": {},
     "output_type": "execute_result"
    }
   ],
   "source": [
    "P1_uniform = P_uniformly_distributed_load(q=g, L=L1)\n",
    "round_expr(P1_uniform, 2)"
   ]
  },
  {
   "cell_type": "markdown",
   "metadata": {},
   "source": [
    "οπότε το συνολικό μητρώο εξωτερικών φορτίσεων για το στοιχείο 1 είναι το άθροισμα των 2 παραπάνω μητρώων:"
   ]
  },
  {
   "cell_type": "code",
   "execution_count": 13,
   "metadata": {},
   "outputs": [
    {
     "data": {
      "text/latex": [
       "$\\displaystyle \\left[\\begin{matrix}-53.91\\\\-47.53\\\\-71.09\\\\59.24\\end{matrix}\\right]$"
      ],
      "text/plain": [
       "Matrix([\n",
       "[-53.91],\n",
       "[-47.53],\n",
       "[-71.09],\n",
       "[ 59.24]])"
      ]
     },
     "execution_count": 13,
     "metadata": {},
     "output_type": "execute_result"
    }
   ],
   "source": [
    "P1 = P1_point + P1_uniform\n",
    "round_expr(P1, 2)"
   ]
  },
  {
   "cell_type": "markdown",
   "metadata": {},
   "source": [
    "Το στοιχείο 2 φέρει τα φορτία μόνο του ομοιόμορφου φορτίου q."
   ]
  },
  {
   "cell_type": "code",
   "execution_count": 14,
   "metadata": {},
   "outputs": [
    {
     "data": {
      "text/latex": [
       "$\\displaystyle \\left[\\begin{matrix}-30.0\\\\-15.0\\\\-30.0\\\\15.0\\end{matrix}\\right]$"
      ],
      "text/plain": [
       "Matrix([\n",
       "[-30.0],\n",
       "[-15.0],\n",
       "[-30.0],\n",
       "[ 15.0]])"
      ]
     },
     "execution_count": 14,
     "metadata": {},
     "output_type": "execute_result"
    }
   ],
   "source": [
    "P2 = P2_uniform = P_uniformly_distributed_load(q=g, L=L2)\n",
    "round_expr(P2, 2)"
   ]
  },
  {
   "cell_type": "markdown",
   "metadata": {},
   "source": [
    "Το στοιχείο 3 φέρει τα φορτία του ομοιόμορφου φορτίου q και τα φορτία που μεταφέρονται από τον πρόβολο."
   ]
  },
  {
   "cell_type": "code",
   "execution_count": 15,
   "metadata": {},
   "outputs": [
    {
     "data": {
      "text/latex": [
       "$\\displaystyle \\left[\\begin{matrix}-42.0\\\\-29.4\\\\-42.0\\\\29.4\\end{matrix}\\right]$"
      ],
      "text/plain": [
       "Matrix([\n",
       "[-42.0],\n",
       "[-29.4],\n",
       "[-42.0],\n",
       "[ 29.4]])"
      ]
     },
     "execution_count": 15,
     "metadata": {},
     "output_type": "execute_result"
    }
   ],
   "source": [
    "P3_uniform = P_uniformly_distributed_load(q=g, L=L3)\n",
    "P3_uniform"
   ]
  },
  {
   "cell_type": "code",
   "execution_count": 16,
   "metadata": {},
   "outputs": [
    {
     "data": {
      "text/latex": [
       "$\\displaystyle \\left[\\begin{matrix}0\\\\0\\\\-22.4\\\\-17.92\\end{matrix}\\right]$"
      ],
      "text/plain": [
       "Matrix([\n",
       "[     0],\n",
       "[     0],\n",
       "[ -22.4],\n",
       "[-17.92]])"
      ]
     },
     "execution_count": 16,
     "metadata": {},
     "output_type": "execute_result"
    }
   ],
   "source": [
    "P3_provolos = Matrix([[0],\n",
    "                    [0], \n",
    "                    [-gπρ*L4],\n",
    "                    [-gπρ*L4**2/2]])\n",
    "P3_provolos"
   ]
  },
  {
   "cell_type": "markdown",
   "metadata": {},
   "source": [
    "οπότε το συνολικό μητρώο εξωτερικών φορτίσεων για το στοιχείο 1 είναι το άθροισμα των 2 παραπάνω μητρώων:"
   ]
  },
  {
   "cell_type": "code",
   "execution_count": 17,
   "metadata": {},
   "outputs": [
    {
     "data": {
      "text/latex": [
       "$\\displaystyle \\left[\\begin{matrix}-42.0\\\\-29.4\\\\-64.4\\\\11.48\\end{matrix}\\right]$"
      ],
      "text/plain": [
       "Matrix([\n",
       "[-42.0],\n",
       "[-29.4],\n",
       "[-64.4],\n",
       "[11.48]])"
      ]
     },
     "execution_count": 17,
     "metadata": {},
     "output_type": "execute_result"
    }
   ],
   "source": [
    "P3 = P3_uniform + P3_provolos\n",
    "round_expr(P3, 2)"
   ]
  },
  {
   "cell_type": "markdown",
   "metadata": {},
   "source": [
    "Το τελικό μητρώο φορτίσεων προκύπτει από την επαλληλία μητρώων των 2 παραπάνω στοιχείων:"
   ]
  },
  {
   "cell_type": "code",
   "execution_count": 18,
   "metadata": {},
   "outputs": [
    {
     "data": {
      "text/latex": [
       "$\\displaystyle \\left[\\begin{matrix}-53.91\\\\-47.53\\\\-101.09\\\\44.24\\\\-72.0\\\\-14.4\\\\-64.4\\\\11.48\\end{matrix}\\right]$"
      ],
      "text/plain": [
       "Matrix([\n",
       "[ -53.91],\n",
       "[ -47.53],\n",
       "[-101.09],\n",
       "[  44.24],\n",
       "[  -72.0],\n",
       "[  -14.4],\n",
       "[  -64.4],\n",
       "[  11.48]])"
      ]
     },
     "execution_count": 18,
     "metadata": {},
     "output_type": "execute_result"
    }
   ],
   "source": [
    "P = sym.zeros(8, 1)\n",
    "P[:4, 0] += P1\n",
    "P[2:6, 0] += P2\n",
    "P[4:, 0] += P3\n",
    "round_expr(P, 2)"
   ]
  },
  {
   "cell_type": "markdown",
   "metadata": {},
   "source": [
    "### Μητρώο παραμορφώσεων"
   ]
  },
  {
   "cell_type": "markdown",
   "metadata": {},
   "source": [
    "Το μητρώο παραμορφώσεων U θα είναι διαστάσεων 8x1 (2 παραμορφώσεις: κατακόρυφη μετακίνηση και στροφή σε κάθε κόμβο).\n",
    "Από τις συνθήκες στήριξης αναγνωρίζεται ότι οι μη μηδενικές τιμές θα είναι αυτές των U4, U6 και U8."
   ]
  },
  {
   "cell_type": "code",
   "execution_count": 19,
   "metadata": {},
   "outputs": [
    {
     "data": {
      "text/latex": [
       "$\\displaystyle \\left[\\begin{matrix}0\\\\0\\\\0\\\\U_{4}\\\\0\\\\U_{6}\\\\0\\\\U_{8}\\end{matrix}\\right]$"
      ],
      "text/plain": [
       "Matrix([\n",
       "[ 0],\n",
       "[ 0],\n",
       "[ 0],\n",
       "[U4],\n",
       "[ 0],\n",
       "[U6],\n",
       "[ 0],\n",
       "[U8]])"
      ]
     },
     "execution_count": 19,
     "metadata": {},
     "output_type": "execute_result"
    }
   ],
   "source": [
    "U4, U6, U8 = sym.symbols('U4 U6 U8')\n",
    "U = Matrix([[0], [0], [0], [U4], [0], [U6], [0], [U8]])\n",
    "U"
   ]
  },
  {
   "cell_type": "markdown",
   "metadata": {},
   "source": [
    "### Μητρώο αντιδράσεων"
   ]
  },
  {
   "cell_type": "markdown",
   "metadata": {},
   "source": [
    "Το μητρώο αντιδράσεων R θα είναι διαστάσεων 8x1 (2 αντιδράσεις: κατακόρυφη δύναμη και ροπή σε κάθε κόμβο).\n",
    "Από τις συνθήκες στήριξης αναγνωρίζεται ότι οι R4, R6 και R8 θα έχουν μηδενικές τιμές."
   ]
  },
  {
   "cell_type": "code",
   "execution_count": 20,
   "metadata": {},
   "outputs": [
    {
     "data": {
      "text/latex": [
       "$\\displaystyle \\left[\\begin{matrix}R_{1}\\\\R_{2}\\\\R_{3}\\\\0\\\\R_{5}\\\\0\\\\R_{7}\\\\0\\end{matrix}\\right]$"
      ],
      "text/plain": [
       "Matrix([\n",
       "[R1],\n",
       "[R2],\n",
       "[R3],\n",
       "[ 0],\n",
       "[R5],\n",
       "[ 0],\n",
       "[R7],\n",
       "[ 0]])"
      ]
     },
     "execution_count": 20,
     "metadata": {},
     "output_type": "execute_result"
    }
   ],
   "source": [
    "R1, R2, R3, R5, R7 = sym.symbols('R1 R2 R3 R5 R7')\n",
    "R = Matrix([[R1], [R2], [R3], [0], [R5], [0], [R7], [0]])\n",
    "R"
   ]
  },
  {
   "cell_type": "markdown",
   "metadata": {},
   "source": [
    "## Επίλυση"
   ]
  },
  {
   "cell_type": "markdown",
   "metadata": {},
   "source": [
    "Στόχος είναι η επίλυση της μητρωικής εξίσωσης:\n",
    "\n",
    "$ [k] \\cdot [u] = [P] + [R]$\n",
    "\n",
    "στην οποία όμως υπάρχουν 2 άγνωστοι, οι πίνακες $[u]$ και $[R]$."
   ]
  },
  {
   "cell_type": "markdown",
   "metadata": {},
   "source": [
    "### Αντικατάσταση γνωστών τιμών στα μητρώα αντιδράσεων και παραμορφώσεων"
   ]
  },
  {
   "cell_type": "markdown",
   "metadata": {},
   "source": [
    "Με δεδομένο ότι είναι γνωστές οι μηδενικές τιμές των μητρώων αντιδράσεων και παραμορφώσεων, αρκεί η επίλυση να περιοριστεί μόνο στα υπομητρώα που σχετίζονται με τις μη μηδενικές τιμές των παραμορφώσεων και συγκεκριμένα στις γραμμές/στήλες 4, 6 και 8."
   ]
  },
  {
   "cell_type": "markdown",
   "metadata": {},
   "source": [
    "### Διαχωρισμός σε υπομητρώα"
   ]
  },
  {
   "cell_type": "code",
   "execution_count": 21,
   "metadata": {},
   "outputs": [],
   "source": [
    "k_468 = Matrix(K[[3, 5, 7], [3, 5, 7]])\n",
    "p_468 = Matrix(P[[3, 5, 7], 0])\n",
    "r_468 = Matrix(R[[3, 5, 7], 0])\n",
    "u_468 = Matrix(U[[3, 5, 7], 0])\n"
   ]
  },
  {
   "cell_type": "code",
   "execution_count": 22,
   "metadata": {},
   "outputs": [
    {
     "data": {
      "text/latex": [
       "$\\displaystyle \\left[\\begin{matrix}426844.4 & 133388.9 & 0\\\\133388.9 & 457333.3 & 95277.8\\\\0 & 95277.8 & 190555.6\\end{matrix}\\right]$"
      ],
      "text/plain": [
       "Matrix([\n",
       "[426844.4, 133388.9,        0],\n",
       "[133388.9, 457333.3,  95277.8],\n",
       "[       0,  95277.8, 190555.6]])"
      ]
     },
     "execution_count": 22,
     "metadata": {},
     "output_type": "execute_result"
    }
   ],
   "source": [
    "round_expr(k_468, 1)"
   ]
  },
  {
   "cell_type": "code",
   "execution_count": 23,
   "metadata": {},
   "outputs": [
    {
     "data": {
      "text/latex": [
       "$\\displaystyle \\left[\\begin{matrix}0\\\\0\\\\0\\end{matrix}\\right]$"
      ],
      "text/plain": [
       "Matrix([\n",
       "[0],\n",
       "[0],\n",
       "[0]])"
      ]
     },
     "execution_count": 23,
     "metadata": {},
     "output_type": "execute_result"
    }
   ],
   "source": [
    "r_468"
   ]
  },
  {
   "cell_type": "code",
   "execution_count": 24,
   "metadata": {},
   "outputs": [
    {
     "data": {
      "text/latex": [
       "$\\displaystyle \\left[\\begin{matrix}U_{4}\\\\U_{6}\\\\U_{8}\\end{matrix}\\right]$"
      ],
      "text/plain": [
       "Matrix([\n",
       "[U4],\n",
       "[U6],\n",
       "[U8]])"
      ]
     },
     "execution_count": 24,
     "metadata": {},
     "output_type": "execute_result"
    }
   ],
   "source": [
    "u_468"
   ]
  },
  {
   "cell_type": "code",
   "execution_count": 25,
   "metadata": {},
   "outputs": [
    {
     "data": {
      "text/latex": [
       "$\\displaystyle \\left[\\begin{matrix}44.24\\\\-14.4\\\\11.48\\end{matrix}\\right]$"
      ],
      "text/plain": [
       "Matrix([\n",
       "[44.24],\n",
       "[-14.4],\n",
       "[11.48]])"
      ]
     },
     "execution_count": 25,
     "metadata": {},
     "output_type": "execute_result"
    }
   ],
   "source": [
    "round_expr(p_468, 2)"
   ]
  },
  {
   "cell_type": "markdown",
   "metadata": {},
   "source": [
    "Από τον πολλαπλασιασμό των $ [k_{468}] \\cdot [u_{468}]$ και την εξίσωση του γινομένου με το $[P_{468}]$ προκύπτει ένα σύστημα 3x3 εξισώσεων με 3 άγνωστους."
   ]
  },
  {
   "cell_type": "code",
   "execution_count": 26,
   "metadata": {},
   "outputs": [
    {
     "data": {
      "text/latex": [
       "$\\displaystyle \\left[\\begin{matrix}426844.4 U_{4} + 133388.9 U_{6}\\\\133388.9 U_{4} + 457333.3 U_{6} + 95277.8 U_{8}\\\\95277.8 U_{6} + 190555.6 U_{8}\\end{matrix}\\right]$"
      ],
      "text/plain": [
       "Matrix([\n",
       "[             426844.4*U4 + 133388.9*U6],\n",
       "[133388.9*U4 + 457333.3*U6 + 95277.8*U8],\n",
       "[              95277.8*U6 + 190555.6*U8]])"
      ]
     },
     "execution_count": 26,
     "metadata": {},
     "output_type": "execute_result"
    }
   ],
   "source": [
    "round_expr(k_468 * u_468, 1)"
   ]
  },
  {
   "cell_type": "markdown",
   "metadata": {},
   "source": [
    "Από τη λύση του συστήματος προκύπτουν οι τιμές των παραμορφώσεων $U_4$, $U_6$ και $U_8$."
   ]
  },
  {
   "cell_type": "markdown",
   "metadata": {},
   "source": [
    "### Εναλλακτική επίλυση με πράξεις μητρώων\n"
   ]
  },
  {
   "cell_type": "markdown",
   "metadata": {},
   "source": [
    "Η εξίσωση:\n",
    "\n",
    "$ [k_{468}] \\cdot [u_{468}] = [P_{468}] + [R_{468}]$\n",
    "\n",
    "για μηδενικό $[R_{468}]$ μπορεί να γραφτεί και ως:\n",
    "\n",
    "$ [k_{468}] \\cdot [u_{468}] = [P_{468}]$\n",
    "\n",
    "οπότε \n",
    "\n",
    "$ [k_{468}]^{-1}[k_{468}] \\cdot [u_{468}] = [k_{468}]^{-1} \\cdot [P_{468}]$\n",
    "\n",
    "$ [u_{468}] = [k_{468}]^{-1} \\cdot [P_{468}]$\n",
    "\n",
    "Το μητρώο $[k_{468}]$ είναι πλέον αντιστρέψιμο"
   ]
  },
  {
   "cell_type": "code",
   "execution_count": 27,
   "metadata": {},
   "outputs": [
    {
     "data": {
      "text/latex": [
       "$\\displaystyle \\left[\\begin{matrix}2.60813657739696 \\cdot 10^{-6} & -8.49160746129242 \\cdot 10^{-7} & 4.24580373064621 \\cdot 10^{-7}\\\\-8.49160746129242 \\cdot 10^{-7} & 2.71731438761358 \\cdot 10^{-6} & -1.35865719380679 \\cdot 10^{-6}\\\\4.24580373064621 \\cdot 10^{-7} & -1.35865719380679 \\cdot 10^{-6} & 5.92714200798211 \\cdot 10^{-6}\\end{matrix}\\right]$"
      ],
      "text/plain": [
       "Matrix([\n",
       "[ 2.60813657739696e-6, -8.49160746129242e-7,  4.24580373064621e-7],\n",
       "[-8.49160746129242e-7,  2.71731438761358e-6, -1.35865719380679e-6],\n",
       "[ 4.24580373064621e-7, -1.35865719380679e-6,  5.92714200798211e-6]])"
      ]
     },
     "execution_count": 27,
     "metadata": {},
     "output_type": "execute_result"
    }
   ],
   "source": [
    "# Το αντίστροφο του μητρώου στιβαρότητας για τα στοιχεία 346\n",
    "k_468.inv()"
   ]
  },
  {
   "cell_type": "code",
   "execution_count": 28,
   "metadata": {},
   "outputs": [
    {
     "data": {
      "text/latex": [
       "$\\displaystyle \\left[\\begin{matrix}0.000132\\\\-9.2 \\cdot 10^{-5}\\\\0.000106\\end{matrix}\\right]$"
      ],
      "text/plain": [
       "Matrix([\n",
       "[0.000132],\n",
       "[ -9.2e-5],\n",
       "[0.000106]])"
      ]
     },
     "execution_count": 28,
     "metadata": {},
     "output_type": "execute_result"
    }
   ],
   "source": [
    "u_468_solution = Matrix(k_468.inv() * p_468)\n",
    "round_expr(u_468_solution, 6)"
   ]
  },
  {
   "cell_type": "markdown",
   "metadata": {},
   "source": [
    "Το παραπάνω αποτέλεσμα είναι οι τιμές του μητρώου $[u_{468}]$, άρα των παραμορφώσεων $U_4$, $U_4$ και $U_8$."
   ]
  },
  {
   "cell_type": "code",
   "execution_count": 29,
   "metadata": {},
   "outputs": [
    {
     "data": {
      "text/latex": [
       "$\\displaystyle \\left[\\begin{matrix}0\\\\0\\\\0\\\\0.000132\\\\0\\\\-9.2 \\cdot 10^{-5}\\\\0\\\\0.000106\\end{matrix}\\right]$"
      ],
      "text/plain": [
       "Matrix([\n",
       "[       0],\n",
       "[       0],\n",
       "[       0],\n",
       "[0.000132],\n",
       "[       0],\n",
       "[ -9.2e-5],\n",
       "[       0],\n",
       "[0.000106]])"
      ]
     },
     "execution_count": 29,
     "metadata": {},
     "output_type": "execute_result"
    }
   ],
   "source": [
    "u_solution = U.subs(U4, u_468_solution[0]).subs(U6, u_468_solution[1]).subs(U8, u_468_solution[2])\n",
    "round_expr(u_solution, 6)"
   ]
  },
  {
   "cell_type": "markdown",
   "metadata": {},
   "source": [
    "Η αρχική μητρωική εξίσωση έχει πλέον ως μόνο άγνωστο το μητρώο [R]:\n",
    "\n",
    "$ [k] \\cdot [u] = [P] + [R]$\n",
    "\n",
    "οπότε:\n",
    "\n",
    "$[R] = [k] \\cdot [u] - [P]$"
   ]
  },
  {
   "cell_type": "code",
   "execution_count": 30,
   "metadata": {},
   "outputs": [
    {
     "data": {
      "text/latex": [
       "$\\displaystyle \\left[\\begin{matrix}60.27\\\\58.13\\\\100.09\\\\0.0\\\\67.6\\\\0.0\\\\63.44\\\\0\\end{matrix}\\right]$"
      ],
      "text/plain": [
       "Matrix([\n",
       "[ 60.27],\n",
       "[ 58.13],\n",
       "[100.09],\n",
       "[   0.0],\n",
       "[  67.6],\n",
       "[   0.0],\n",
       "[ 63.44],\n",
       "[     0]])"
      ]
     },
     "execution_count": 30,
     "metadata": {},
     "output_type": "execute_result"
    }
   ],
   "source": [
    "r_solution = Matrix(K * u_solution - P)\n",
    "round_expr(r_solution, 2)\n"
   ]
  },
  {
   "cell_type": "markdown",
   "metadata": {},
   "source": [
    "## Υπολογισμός μετακίνησης στο μέσο του L2"
   ]
  },
  {
   "cell_type": "markdown",
   "metadata": {},
   "source": [
    "Θα χρησιμοποιηθούν οι συναρτήσεις μορφής.\n",
    "Αρχικά δημιουργείται το διάνυσμα των μετακινήσεων, όπου εμφανίζεται και ο αξονικός βαθμός ελευθερίας (6x1, θα μπορούσε φυσικά και να χρησιμοποιηθεί και 4x1 χωρίς τα αξονικά)"
   ]
  },
  {
   "cell_type": "code",
   "execution_count": 31,
   "metadata": {},
   "outputs": [
    {
     "data": {
      "text/latex": [
       "$\\displaystyle \\left[\\begin{matrix}0\\\\0\\\\0.0001325\\\\0\\\\0\\\\-9.23 \\cdot 10^{-5}\\end{matrix}\\right]$"
      ],
      "text/plain": [
       "Matrix([\n",
       "[        0],\n",
       "[        0],\n",
       "[0.0001325],\n",
       "[        0],\n",
       "[        0],\n",
       "[ -9.23e-5]])"
      ]
     },
     "execution_count": 31,
     "metadata": {},
     "output_type": "execute_result"
    }
   ],
   "source": [
    "U2_with_axial = Matrix([[0], [0], [u_solution[3]], [0], [0], [u_solution[5]]])\n",
    "round_expr(U2_with_axial, 7)"
   ]
  },
  {
   "cell_type": "code",
   "execution_count": 32,
   "metadata": {},
   "outputs": [
    {
     "data": {
      "text/latex": [
       "$\\displaystyle \\left[\\begin{matrix}0.5 & 0 & 0 & 0.5 & 0 & 0\\\\0 & 0.5 & 0.375 & 0 & 1.0 & -0.375\\end{matrix}\\right]$"
      ],
      "text/plain": [
       "Matrix([\n",
       "[0.5,   0,     0, 0.5,   0,      0],\n",
       "[  0, 0.5, 0.375,   0, 1.0, -0.375]])"
      ]
     },
     "execution_count": 32,
     "metadata": {},
     "output_type": "execute_result"
    }
   ],
   "source": [
    "F = sf.F(L2, L2/2)\n",
    "F"
   ]
  },
  {
   "cell_type": "code",
   "execution_count": 33,
   "metadata": {},
   "outputs": [
    {
     "data": {
      "text/latex": [
       "$\\displaystyle \\left[\\begin{matrix}0\\\\8.43 \\cdot 10^{-5}\\end{matrix}\\right]$"
      ],
      "text/plain": [
       "Matrix([\n",
       "[      0],\n",
       "[8.43e-5]])"
      ]
     },
     "execution_count": 33,
     "metadata": {},
     "output_type": "execute_result"
    }
   ],
   "source": [
    "round_expr(sf.Y(F, U2_with_axial), 7)"
   ]
  },
  {
   "cell_type": "markdown",
   "metadata": {},
   "source": [
    "Η δεύτερη γραμμή του παραπάνω μητρώου είναι η βύθιση στο μέσο του L2"
   ]
  },
  {
   "cell_type": "markdown",
   "metadata": {},
   "source": [
    "## Διαγράμματα εντατικών μεγεθών"
   ]
  },
  {
   "cell_type": "markdown",
   "metadata": {},
   "source": [
    "Υπολογίζονται επιλύοντας τον φορέα με το OpenSees. Οπότε η επίλυση μπορεί να χρησιμοποιηθεί και για τον έλεγχο των τιμών των αντιδράσεων στις στηρίξεις"
   ]
  },
  {
   "cell_type": "code",
   "execution_count": 35,
   "metadata": {},
   "outputs": [
    {
     "data": {
      "image/png": "[encoded data removed]",
      "text/plain": [
       "<Figure size 640x480 with 1 Axes>"
      ]
     },
     "metadata": {},
     "output_type": "display_data"
    },
    {
     "data": {
      "image/png": "[encoded data removed]",
      "text/plain": [
       "<Figure size 640x480 with 1 Axes>"
      ]
     },
     "metadata": {},
     "output_type": "display_data"
    },
    {
     "data": {
      "image/png": "[encoded data removed]",
      "text/plain": [
       "<Figure size 640x480 with 1 Axes>"
      ]
     },
     "metadata": {},
     "output_type": "display_data"
    },
    {
     "data": {
      "image/png": "[encoded data removed]",
      "text/plain": [
       "<Figure size 640x480 with 1 Axes>"
      ]
     },
     "metadata": {},
     "output_type": "display_data"
    }
   ],
   "source": [
    "ops.wipe()\n",
    "ops.model('basic', '-ndm', 2, '-ndf', 3)\n",
    "\n",
    "A = 1000.\n",
    "\n",
    "ops.node(1, 0., 0)\n",
    "ops.node(2, L1, 0)\n",
    "ops.node(3, L1+L2, 0)\n",
    "ops.node(4, L1+L2+L3, 0)\n",
    "ops.node(5, L1+L2+L3+L4, 0)\n",
    "ops.node(6, Lp, 0)\n",
    "\n",
    "ops.fix(1, 1, 1, 1)\n",
    "ops.fix(2, 1, 1, 0)\n",
    "ops.fix(3, 1, 1, 0)\n",
    "ops.fix(4, 0, 1, 0)\n",
    "\n",
    "# opsv.plot_model()\n",
    "# plt.title('plot_model before defining elements')\n",
    "\n",
    "ops.geomTransf('Linear', 1)\n",
    "\n",
    "# elements\n",
    "# ops.element('elasticBeamColumn', 1, 1, 2, A, E, I, 1)\n",
    "# ops.element('elasticBeamColumn', 2, 2, 3, A, E, I, 1)\n",
    "# ops.element('elasticBeamColumn', 3, 3, 4, A, E, I, 1)\n",
    "# ops.element('elasticBeamColumn', 4, 4, 5, A, E, I, 1)\n",
    "\n",
    "ops.element('elasticBeamColumn', 1, 1, 6, A, E, I, 1)\n",
    "ops.element('elasticBeamColumn', 2, 6, 2, A, E, I, 1)\n",
    "ops.element('elasticBeamColumn', 3, 2, 3, A, E, I, 1)\n",
    "ops.element('elasticBeamColumn', 4, 3, 4, A, E, I, 1)\n",
    "ops.element('elasticBeamColumn', 5, 4, 5, A, E, I, 1)\n",
    "\n",
    "\n",
    "# loads\n",
    "ops.timeSeries('Constant', 1)\n",
    "ops.pattern('Plain', 1, 1)\n",
    "\n",
    "# ops.eleLoad('-ele', 1, '-type', '-beamPoint', -P_load, Lp/L1)\n",
    "ops.eleLoad('-ele', 1, '-type', '-beamUniform', -g)\n",
    "ops.eleLoad('-ele', 2, '-type', '-beamUniform', -g)\n",
    "ops.eleLoad('-ele', 3, '-type', '-beamUniform', -g)\n",
    "ops.eleLoad('-ele', 4, '-type', '-beamUniform', -g)\n",
    "ops.eleLoad('-ele', 5, '-type', '-beamUniform', -gπρ)\n",
    "ops.load(6, 0., -P_load, 0.)\n",
    "\n",
    "\n",
    "# analysis\n",
    "ops.constraints('Transformation')\n",
    "ops.numberer('RCM')\n",
    "ops.system('BandGeneral')\n",
    "ops.test('NormDispIncr', 1.0e-6, 6, 2)\n",
    "ops.algorithm('Linear')\n",
    "ops.integrator('LoadControl', 1)\n",
    "ops.analysis('Static')\n",
    "ops.analyze(1)\n",
    "\n",
    "# results\n",
    "# ops.printModel()\n",
    "opsv.plot_model()\n",
    "plt.title('plot_model after defining elements')\n",
    "\n",
    "# opsv.plot_loads_2d(10, 2)\n",
    "# plt.title('loads')\n",
    "\n",
    "sfac = 500.\n",
    "opsv.plot_defo(sfac)\n",
    "plt.title('deformations')\n",
    "\n",
    "sfacN, sfacV, sfacM = 5.e-3, 2.e-2, 2.e-2\n",
    "\n",
    "# opsv.section_force_diagram_2d('N', sfacN)\n",
    "# plt.title('Axial force distribution')\n",
    "\n",
    "opsv.section_force_diagram_2d('T', sfacV)\n",
    "plt.title('Shear force distribution')\n",
    "\n",
    "opsv.section_force_diagram_2d('M', sfacM)\n",
    "plt.title('Bending moment distribution')\n",
    "\n",
    "\n",
    "plt.show()\n",
    "\n"
   ]
  },
  {
   "cell_type": "code",
   "execution_count": null,
   "metadata": {},
   "outputs": [],
   "source": []
  },
  {
   "cell_type": "code",
   "execution_count": null,
   "metadata": {},
   "outputs": [],
   "source": []
  }
 ],
 "metadata": {
  "kernelspec": {
   "display_name": ".venv",
   "language": "python",
   "name": "python3"
  },
  "language_info": {
   "codemirror_mode": {
    "name": "ipython",
    "version": 3
   },
   "file_extension": ".py",
   "mimetype": "text/x-python",
   "name": "python",
   "nbconvert_exporter": "python",
   "pygments_lexer": "ipython3",
   "version": "3.12.9"
  },
  "toc-autonumbering": false,
  "vscode": {
   "interpreter": {
    "hash": "f55b14aa61f955e08137ed44649b0108f4fb88a00326148a0cbff67d5b2ac0af"
   }
  }
 },
 "nbformat": 4,
 "nbformat_minor": 4
}
