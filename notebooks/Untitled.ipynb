{
 "cells": [
  {
   "cell_type": "code",
   "execution_count": 1,
   "id": "eeee5ceb-c5c8-486c-8833-b0a7323e6705",
   "metadata": {},
   "outputs": [],
   "source": [
    "import pandas as pd"
   ]
  },
  {
   "cell_type": "code",
   "execution_count": 2,
   "id": "6819a715-a61e-4c2e-93b9-c67a6f5c6709",
   "metadata": {},
   "outputs": [],
   "source": [
    "from statics import mitroiki_functs"
   ]
  },
  {
   "cell_type": "code",
   "execution_count": 6,
   "id": "6087c9ac-95db-4328-8cff-0790a4924e4c",
   "metadata": {},
   "outputs": [],
   "source": [
    "a = mitroiki_functs.K_without_axial(E=20000, I=1.0, L=4.0)"
   ]
  },
  {
   "cell_type": "code",
   "execution_count": 7,
   "id": "a7fa7fff-02dc-4d6a-a765-8740f41bbcd7",
   "metadata": {},
   "outputs": [
    {
     "data": {
      "text/latex": [
       "$\\displaystyle \\left[\\begin{matrix}3750.0 & 7500.0 & -3750.0 & 7500.0\\\\7500.0 & 20000.0 & -7500.0 & 10000.0\\\\-3750.0 & -7500.0 & 3750.0 & -7500.0\\\\7500.0 & 10000.0 & -7500.0 & 20000.0\\end{matrix}\\right]$"
      ],
      "text/plain": [
       "Matrix([\n",
       "[ 3750.0,  7500.0, -3750.0,  7500.0],\n",
       "[ 7500.0, 20000.0, -7500.0, 10000.0],\n",
       "[-3750.0, -7500.0,  3750.0, -7500.0],\n",
       "[ 7500.0, 10000.0, -7500.0, 20000.0]])"
      ]
     },
     "execution_count": 7,
     "metadata": {},
     "output_type": "execute_result"
    }
   ],
   "source": [
    "a"
   ]
  },
  {
   "cell_type": "code",
   "execution_count": 4,
   "id": "20a57565-6b38-4506-98be-3f783bfcd201",
   "metadata": {},
   "outputs": [
    {
     "name": "stdout",
     "output_type": "stream",
     "text": [
      "Help on function K_without_axial in module statics.mitroiki_functs:\n",
      "\n",
      "K_without_axial(E: float, I: float, L: float) -> sympy.matrices.dense.MutableDenseMatrix\n",
      "    Return the stiffness matrix for an element with axial force.\n",
      "\n",
      "    Args:\n",
      "        E: Young's modulus of the element.\n",
      "        I: Moment of inertia of the element.\n",
      "        L: Length of the element.\n",
      "\n",
      "    Returns:\n",
      "        The stiffness matrix for the element.\n",
      "\n"
     ]
    }
   ],
   "source": [
    "help(mitroiki_functs.K_without_axial)"
   ]
  },
  {
   "cell_type": "code",
   "execution_count": null,
   "id": "c4b011d2-3414-4761-bee4-83ddb933e919",
   "metadata": {},
   "outputs": [],
   "source": []
  }
 ],
 "metadata": {
  "kernelspec": {
   "display_name": "Python 3 (ipykernel)",
   "language": "python",
   "name": "python3"
  },
  "language_info": {
   "codemirror_mode": {
    "name": "ipython",
    "version": 3
   },
   "file_extension": ".py",
   "mimetype": "text/x-python",
   "name": "python",
   "nbconvert_exporter": "python",
   "pygments_lexer": "ipython3",
   "version": "3.13.2"
  }
 },
 "nbformat": 4,
 "nbformat_minor": 5
}
